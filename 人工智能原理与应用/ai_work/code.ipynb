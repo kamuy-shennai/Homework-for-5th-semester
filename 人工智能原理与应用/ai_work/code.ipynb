{
 "cells": [
  {
   "cell_type": "code",
   "execution_count": 1,
   "metadata": {
    "ExecuteTime": {
     "end_time": "2023-12-04T00:41:16.014851700Z",
     "start_time": "2023-12-04T00:41:12.815961200Z"
    }
   },
   "outputs": [],
   "source": [
    "from sklearn.svm import SVC\n",
    "import pickle\n",
    "import numpy as np"
   ],
   "id": "fd8fe08d1be065e6"
  },
  {
   "cell_type": "code",
   "execution_count": 2,
   "id": "5eaa41fed5f103d3",
   "metadata": {
    "collapsed": false,
    "ExecuteTime": {
     "end_time": "2023-11-30T09:12:37.644561900Z",
     "start_time": "2023-11-30T09:12:36.854806900Z"
    }
   },
   "outputs": [],
   "source": [
    "with open(\"./data.pkl\",\"rb\") as f:\n",
    "    train_data, train_labels, test_data, test_labels = pickle.load(f)"
   ]
  },
  {
   "cell_type": "code",
   "execution_count": 3,
   "metadata": {
    "ExecuteTime": {
     "end_time": "2023-11-30T09:12:38.359522700Z",
     "start_time": "2023-11-30T09:12:38.359522700Z"
    }
   },
   "outputs": [],
   "source": [
    "avg_len = 0\n",
    "for i in train_data:\n",
    "    avg_len += len(i)\n",
    "avg_len = int(avg_len/25000)"
   ],
   "id": "65bab1b3f8b53f5e"
  },
  {
   "cell_type": "code",
   "execution_count": 5,
   "outputs": [],
   "source": [
    "new_train_data = []\n",
    "for i in train_data:\n",
    "    if len(i) > avg_len:\n",
    "        #print(i[0:avg_len])\n",
    "        new_train_data.append(np.array(i)[0:avg_len])\n",
    "    elif len(i) == avg_len:\n",
    "        new_train_data.append(np.array(i))\n",
    "        #print(i)\n",
    "    else:\n",
    "        #print(i.extend(0 for _ in range(avg_len-len(i))))\n",
    "        new_train_data.append(np.array(i.extend(0 for _ in range(avg_len-len(i)))))\n",
    "new_train_data = np.array(new_train_data)\n"
   ],
   "metadata": {
    "collapsed": false,
    "ExecuteTime": {
     "end_time": "2023-11-30T09:12:45.952196600Z",
     "start_time": "2023-11-30T09:12:45.342170100Z"
    }
   },
   "id": "b22d4a7d4674d501"
  },
  {
   "cell_type": "code",
   "execution_count": 7,
   "outputs": [],
   "source": [
    "new_test_data = []\n",
    "for i in test_data:\n",
    "    if len(i) >= avg_len:\n",
    "        new_test_data.append(np.array(i)[0:avg_len])\n",
    "    else:\n",
    "        new_test_data.append(np.array(i.extend(0 for _ in range(avg_len-len(i)))))\n",
    "new_test_data = np.array(new_test_data)"
   ],
   "metadata": {
    "collapsed": false,
    "ExecuteTime": {
     "end_time": "2023-11-30T09:12:54.955839900Z",
     "start_time": "2023-11-30T09:12:54.344621500Z"
    }
   },
   "id": "afde462ac3c4a9d2"
  },
  {
   "cell_type": "code",
   "execution_count": 8,
   "outputs": [],
   "source": [
    "new_train_data = new_train_data[0:500,:]\n",
    "train_labels = train_labels[0:500]"
   ],
   "metadata": {
    "collapsed": false,
    "ExecuteTime": {
     "end_time": "2023-11-30T09:13:00.530710800Z",
     "start_time": "2023-11-30T09:13:00.526634700Z"
    }
   },
   "id": "95ea77692d3fe8fc"
  },
  {
   "cell_type": "code",
   "execution_count": 9,
   "id": "382af69182055a4b",
   "metadata": {
    "collapsed": false,
    "ExecuteTime": {
     "end_time": "2023-11-30T09:13:01.571227Z",
     "start_time": "2023-11-30T09:13:01.571227Z"
    }
   },
   "outputs": [],
   "source": [
    "classifiers=SVC(kernel=\"linear\",C=0.025)"
   ]
  },
  {
   "cell_type": "code",
   "execution_count": null,
   "id": "581f277b24d96fca",
   "metadata": {
    "collapsed": false,
    "is_executing": true,
    "ExecuteTime": {
     "start_time": "2023-11-30T09:13:02.081705900Z"
    }
   },
   "outputs": [],
   "source": [
    "classifiers.fit(new_train_data,train_labels)"
   ]
  },
  {
   "cell_type": "code",
   "execution_count": null,
   "metadata": {
    "is_executing": true
   },
   "outputs": [],
   "source": [
    "classifiers.score(new_test_data,test_labels)"
   ],
   "id": "9620cf5213be5696"
  },
  {
   "cell_type": "code",
   "execution_count": null,
   "outputs": [],
   "source": [],
   "metadata": {
    "collapsed": false
   },
   "id": "b30ac82a9ca77bb2"
  }
 ],
 "metadata": {
  "kernelspec": {
   "display_name": "Python 3",
   "language": "python",
   "name": "python3"
  },
  "language_info": {
   "codemirror_mode": {
    "name": "ipython",
    "version": 3
   },
   "file_extension": ".py",
   "mimetype": "text/x-python",
   "name": "python",
   "nbconvert_exporter": "python",
   "pygments_lexer": "ipython3",
   "version": "3.11.4"
  }
 },
 "nbformat": 4,
 "nbformat_minor": 5
}
